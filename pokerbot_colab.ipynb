{
 "cells": [
  {
   "cell_type": "markdown",
   "id": "976b0270",
   "metadata": {},
   "source": [
    "# PokerBot Championship Pipeline (Google Colab)\n",
    "\n",
    "This notebook sets up and runs the full PokerBot championship pipeline in Colab:\n",
    "1. Clone the GitHub repository\n",
    "2. Install dependencies\n",
    "3. Generate training data\n",
    "4. Train the model (GPU)\n",
    "5. Validate results\n",
    "\n",
    "**Note:** Runtime should be set to GPU for best performance."
   ]
  },
  {
   "cell_type": "code",
   "execution_count": null,
   "id": "13498292",
   "metadata": {},
   "outputs": [],
   "source": [
    "# 1. Clone the PokerBot GitHub repository\n",
    "!git clone https://github.com/elliotttmiller/pokerbot.git\n",
    "%cd pokerbot"
   ]
  },
  {
   "cell_type": "code",
   "execution_count": null,
   "id": "c5bb71b0",
   "metadata": {},
   "outputs": [],
   "source": [
    "# 2. Install required dependencies\n",
    "!pip install -r requirements.txt"
   ]
  },
  {
   "cell_type": "code",
   "execution_count": null,
   "id": "a6720ed6",
   "metadata": {},
   "outputs": [],
   "source": [
    "# 3. Generate new training data (15 min for 1K samples)\n",
    "!python scripts/generate_quick_data.py --samples 1000 --cfr-iters 2000"
   ]
  },
  {
   "cell_type": "code",
   "execution_count": null,
   "id": "f62201e8",
   "metadata": {},
   "outputs": [],
   "source": [
    "# 4. Train with championship config (30 min on GPU)\n",
    "!python scripts/train_deepstack.py --config scripts/config/championship.json --use-gpu --epochs 200"
   ]
  },
  {
   "cell_type": "code",
   "execution_count": null,
   "id": "16d5497f",
   "metadata": {},
   "outputs": [],
   "source": [
    "# 5. Validate results\n",
    "!python scripts/validate_deepstack_model.py --model models/versions/best_model.pt"
   ]
  },
  {
   "cell_type": "markdown",
   "id": "00006c4a",
   "metadata": {},
   "source": [
    "## Results and Next Steps\n",
    "\n",
    "- Review the output of the validation cell for model quality and recommendations.\n",
    "- For deeper analysis, run `scripts/run_analysis_report.py` to generate plots and metrics in `models/reports`.\n",
    "- To retrain or tune, adjust config or sample size and rerun relevant cells.\n",
    "\n",
    "**Tip:** If you encounter missing dependencies, install them with `!pip install <package>` as needed."
   ]
  },
  {
   "cell_type": "code",
   "execution_count": null,
   "id": "9d22e110",
   "metadata": {},
   "outputs": [],
   "source": [
    "# 6. Run analysis report and display results\n",
    "!python scripts/run_analysis_report.py\n",
    "\n",
    "# Display generated plots inline (optional)\n",
    "import matplotlib.pyplot as plt\n",
    "from IPython.display import Image, display\n",
    "\n",
    "for plot in [\n",
    "    \"models/reports/loss_curves.png\",\n",
    "    \"models/reports/correlation_curves.png\",\n",
    "    \"models/reports/per_street_correlation.png\",\n",
    "    \"models/reports/per_bucket_corrs_hist.png\"\n",
    "]:\n",
    "    try:\n",
    "        display(Image(plot))\n",
    "    except Exception:\n",
    "        print(f\"Plot not found: {plot}\")"
   ]
  },
  {
   "cell_type": "code",
   "execution_count": null,
   "id": "d7fb00db",
   "metadata": {},
   "outputs": [],
   "source": [
    "# Error Handling and Logging Example\n",
    "import traceback\n",
    "\n",
    "def run_step(cmd, log_file):\n",
    "    import subprocess\n",
    "    try:\n",
    "        result = subprocess.run(cmd, shell=True, check=True, stdout=subprocess.PIPE, stderr=subprocess.PIPE)\n",
    "        with open(log_file, 'w') as f:\n",
    "            f.write(result.stdout.decode())\n",
    "            f.write(result.stderr.decode())\n",
    "        print(f\"Step succeeded: {cmd}\")\n",
    "    except Exception as e:\n",
    "        with open(log_file, 'w') as f:\n",
    "            f.write(traceback.format_exc())\n",
    "        print(f\"Step failed: {cmd}\\nSee {log_file} for details.\")\n",
    "\n",
    "# Example usage:\n",
    "run_step('python scripts/train_deepstack.py --config scripts/config/championship.json --use-gpu --epochs 200', 'train_log.txt')"
   ]
  },
  {
   "cell_type": "code",
   "execution_count": null,
   "id": "0b7a8514",
   "metadata": {},
   "outputs": [],
   "source": [
    "# Interactive Visualization Example\n",
    "import matplotlib.pyplot as plt\n",
    "import pandas as pd\n",
    "import numpy as np\n",
    "import os\n",
    "\n",
    "# Plot training/validation loss curves interactively\n",
    "metrics_path = 'models/reports/training_metrics.csv'\n",
    "if os.path.exists(metrics_path):\n",
    "    df = pd.read_csv(metrics_path)\n",
    "    plt.figure(figsize=(10,5))\n",
    "    plt.plot(df[df['phase']=='train']['epoch'], df[df['phase']=='train']['loss'], label='Train Loss')\n",
    "    plt.plot(df[df['phase']=='valid']['epoch'], df[df['phase']=='valid']['loss'], label='Val Loss')\n",
    "    plt.xlabel('Epoch')\n",
    "    plt.ylabel('Loss')\n",
    "    plt.title('Training vs Validation Loss')\n",
    "    plt.legend()\n",
    "    plt.show()\n",
    "else:\n",
    "    print('training_metrics.csv not found.')\n",
    "\n",
    "# Plot per-bucket correlations interactively\n",
    "corr_path = 'models/reports/per_bucket_corrs.json'\n",
    "if os.path.exists(corr_path):\n",
    "    import json\n",
    "    with open(corr_path) as f:\n",
    "        data = json.load(f)\n",
    "    bucket_corrs = np.array(data.get('bucket_corrs', []))\n",
    "    plt.figure(figsize=(8,4))\n",
    "    plt.hist(bucket_corrs, bins=30, alpha=0.8)\n",
    "    plt.title('Per-Bucket Correlations')\n",
    "    plt.xlabel('Correlation')\n",
    "    plt.ylabel('Count')\n",
    "    plt.show()\n",
    "else:\n",
    "    print('per_bucket_corrs.json not found.')"
   ]
  },
  {
   "cell_type": "code",
   "execution_count": null,
   "id": "0cccaf8f",
   "metadata": {},
   "outputs": [],
   "source": [
    "# Model Download Cell\n",
    "import shutil\n",
    "from google.colab import files\n",
    "\n",
    "# Zip models and reports for download\n",
    "shutil.make_archive('pokerbot_artifacts', 'zip', 'models')\n",
    "files.download('pokerbot_artifacts.zip')"
   ]
  }
 ],
 "metadata": {
  "language_info": {
   "name": "python"
  }
 },
 "nbformat": 4,
 "nbformat_minor": 5
}
